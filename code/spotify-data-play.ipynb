version https://git-lfs.github.com/spec/v1
oid sha256:ca79bd82cc414e0d49104da971f90e56309baa6f297008c4fc61b8e114fc18e8
size 5363
