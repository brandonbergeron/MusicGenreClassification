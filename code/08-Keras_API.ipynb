version https://git-lfs.github.com/spec/v1
oid sha256:e88d619f24d43bdbb7b989c97ba23ceb151c1f436c440e23ebb9fffcb2ed195d
size 73606
