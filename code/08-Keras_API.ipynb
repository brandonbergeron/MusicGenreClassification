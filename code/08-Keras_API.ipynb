version https://git-lfs.github.com/spec/v1
oid sha256:9b71cbcb1de3e45167c82d453e1d43e4929cfd5eb0fe90c1640ea2681df329b1
size 36492
