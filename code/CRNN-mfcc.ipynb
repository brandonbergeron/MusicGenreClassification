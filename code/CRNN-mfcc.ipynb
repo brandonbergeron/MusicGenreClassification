version https://git-lfs.github.com/spec/v1
oid sha256:0ed05cc86a3f9c97b4e7ad43036d6b1c30ad1ac34c0c0250b88fb8ecde0fc9b2
size 53033
