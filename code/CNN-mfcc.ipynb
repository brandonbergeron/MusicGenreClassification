version https://git-lfs.github.com/spec/v1
oid sha256:10ec2136b0402c427228c2ed1f80d5327e680d4edaa48b249333a87be03493e5
size 923152
